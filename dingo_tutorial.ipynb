{
  "nbformat": 4,
  "nbformat_minor": 0,
  "metadata": {
    "colab": {
      "name": "dingo-tutorial.ipynb",
      "provenance": [],
      "collapsed_sections": [],
      "include_colab_link": true
    },
    "kernelspec": {
      "display_name": "Python 3",
      "name": "python3"
    },
    "language_info": {
      "name": "python"
    }
  },
  "cells": [
    {
      "cell_type": "markdown",
      "metadata": {
        "id": "view-in-github",
        "colab_type": "text"
      },
      "source": [
        "<a href=\"https://colab.research.google.com/github/hariszaf/gsoc2021/blob/microbactions/dingo_tutorial.ipynb\" target=\"_parent\"><img src=\"https://colab.research.google.com/assets/colab-badge.svg\" alt=\"Open In Colab\"/></a>"
      ]
    },
    {
      "cell_type": "markdown",
      "metadata": {
        "id": "XsGorJWn4Q6U"
      },
      "source": [
        "#  `dingo` : A python library for metabolic networks sampling and analysis"
      ]
    },
    {
      "cell_type": "markdown",
      "metadata": {
        "id": "04-ezSozK3QT"
      },
      "source": [
        "\n",
        "## About this Colab notebook "
      ]
    },
    {
      "cell_type": "markdown",
      "metadata": {
        "id": "-IBI5DoLMDCn"
      },
      "source": [
        "Aim of this notebook is to highlight the importance of metabolic networks analysis and the insight it may provide, as well as to demonstrate how to use the `dingo` Python library for the analysis of metabolic networks.  \n"
      ]
    },
    {
      "cell_type": "markdown",
      "metadata": {
        "id": "L-pK94S-GPYG"
      },
      "source": [
        "For your convenience, we suggest to make a copy of the notebook \n",
        "by saving this notebook on your Google Drive \n",
        "\n",
        "(`File > Save a copy in Drive`). \n",
        "\n",
        "This way you can change things on the notebook, and make your own experiments as you like!\n",
        "\n",
        "The `&> /dev/null` in the end of a command is so you do not see all the messages returned when the command is executed."
      ]
    },
    {
      "cell_type": "markdown",
      "metadata": {
        "id": "3MVGIeyfFItc"
      },
      "source": [
        "### Installation "
      ]
    },
    {
      "cell_type": "markdown",
      "metadata": {
        "id": "WrAMCM444ZIX"
      },
      "source": [
        "Regarding installation of `dingo` you may either follow the instructions described above or those described on [GitHub](https://github.com/GeomScale/dingo). In the latter, we use the [`poetry`](https://github.com/GeomScale/dingo) tool for dependency management and packaging of Python packages.\n",
        "Here we don't. "
      ]
    },
    {
      "cell_type": "markdown",
      "metadata": {
        "id": "oDTOu161Fz_d"
      },
      "source": [
        "In case you will follow the instruction described here, you need to remember that when working on a normal console (terminal) you will have to remove any `!` from the begining of the following commands; these allow to Google Colab work as a terminal console. "
      ]
    },
    {
      "cell_type": "markdown",
      "metadata": {
        "id": "7CwAe0jxD5aB"
      },
      "source": [
        "## Introduction"
      ]
    },
    {
      "cell_type": "markdown",
      "metadata": {
        "id": "nzzDw-EJKZpy"
      },
      "source": [
        "### Genome scale metabolic network reconstruction"
      ]
    },
    {
      "cell_type": "markdown",
      "metadata": {
        "id": "UdP-wtlwHdpZ"
      },
      "source": [
        "Over the last decades, vast amounts of data have been gathered mostly thanks to the High Throuput technologies developed. \n",
        "\n",
        "As a result, the complete sequencing of a bacterial genome is now considered trivial. "
      ]
    },
    {
      "cell_type": "markdown",
      "metadata": {
        "id": "H2UE0ORSS_sQ"
      },
      "source": [
        "\n",
        "<img src='https://drive.google.com/uc?id=1v-BnN3Rsnc8_UuLTUo2rwGvP9oUWvcYW'>"
      ]
    },
    {
      "cell_type": "markdown",
      "metadata": {
        "id": "hHb_igNYdsSB"
      },
      "source": [
        "Global efforts have lead to large databases supporting the annotation of the genes found in a genome."
      ]
    },
    {
      "cell_type": "markdown",
      "metadata": {
        "id": "nXw-rD4VX85E"
      },
      "source": [
        "<img src='https://drive.google.com/uc?id=1D62Xxc_X5DRW5naMfY6rCyLm4v98FXMC'>"
      ]
    },
    {
      "cell_type": "markdown",
      "metadata": {
        "id": "6ZG3nbgBN34k"
      },
      "source": [
        "From the genome annotation we can now get the reactions that potentially take place in the species organism (along with their stoichiometry)."
      ]
    },
    {
      "cell_type": "markdown",
      "metadata": {
        "id": "ZwJEvcTfY_fC"
      },
      "source": [
        "<img src='https://drive.google.com/uc?id=1_vuamqeEzjvJMw5_hR4XuLnjj0KJn1x0'>"
      ]
    },
    {
      "cell_type": "markdown",
      "metadata": {
        "id": "hKPc6n9Xd5PK"
      },
      "source": [
        "And from the sum of the reactions present, along with their corresponding constraints, we can now get the metabolic network of the species. \n",
        "Thus, we have now software tools that enable automatic genome-scale reconstructions (e.g. [carveme](https://carveme.readthedocs.io/en/latest/))"
      ]
    },
    {
      "cell_type": "markdown",
      "metadata": {
        "id": "k-nKzY92g9Wg"
      },
      "source": [
        "<img src='https://drive.google.com/uc?id=1sw7nCeVJQfIc6oiDCGvfKFIqXg_so3Eb' width=\"500\" height=\"400\">"
      ]
    },
    {
      "cell_type": "markdown",
      "metadata": {
        "id": "QWnL4ZQxOcTb"
      },
      "source": [
        "The corresponding metabolic model is the mathematical representation of what happens in the organism along with the intaractions between it and its environmnet. Here is a toy example:"
      ]
    },
    {
      "cell_type": "markdown",
      "metadata": {
        "id": "l7YlhJjSPFRo"
      },
      "source": [
        "<img src='https://drive.google.com/uc?id=1x20oGpf8ACikdAR7lxAORNfw8QFPwCom'>"
      ]
    },
    {
      "cell_type": "code",
      "metadata": {
        "colab": {
          "base_uri": "https://localhost:8080/",
          "height": 454
        },
        "id": "G5m2-7t7fUkf",
        "outputId": "f1c46fa2-7f84-4310-c915-c2fa43f4371e"
      },
      "source": [
        "#@title Pathway reactions fluxes representation{ display-mode: \"form\" }\n",
        "from IPython.display import HTML\n",
        "HTML('<video width=\"40%\" height=\"25%\" loop autoplay><source src=\"https://gibbons-lab.github.io/isb_course_2020/micom/assets/fluxes.mp4\" type=\"video/mp4\"></video>')\n",
        "\n"
      ],
      "execution_count": null,
      "outputs": [
        {
          "output_type": "execute_result",
          "data": {
            "text/html": [
              "<video width=\"40%\" height=\"25%\" loop autoplay><source src=\"https://gibbons-lab.github.io/isb_course_2020/micom/assets/fluxes.mp4\" type=\"video/mp4\"></video>"
            ],
            "text/plain": [
              "<IPython.core.display.HTML object>"
            ]
          },
          "metadata": {
            "tags": []
          },
          "execution_count": 16
        }
      ]
    },
    {
      "cell_type": "markdown",
      "metadata": {
        "id": "nKY2gxKcf_zg"
      },
      "source": [
        "This GIFF is from a [presentation](https://gibbons-lab.github.io/isb_course_2020/micom/) from Christian Diener at Gibbons Lab!\n",
        "  🤓 "
      ]
    },
    {
      "cell_type": "markdown",
      "metadata": {
        "id": "v8cgveHyHdmq"
      },
      "source": [
        "What we actually need to build these models are the stoichiometric matrix (S) of the reactions that take place along with their corresponding constraints. \n",
        "As you can guess, $S$ is nothing but a matrix with $m$ metabolites and $n$ reactions!"
      ]
    },
    {
      "cell_type": "markdown",
      "metadata": {
        "id": "e4rCPCwghY_6"
      },
      "source": [
        "$S_{m,n} =\n",
        " \\begin{pmatrix}\n",
        "  a_{1,1} & a_{1,2} & \\cdots & a_{1,n} \\\\\n",
        "  a_{2,1} & a_{2,2} & \\cdots & a_{2,n} \\\\\n",
        "  \\vdots  & \\vdots  & \\ddots & \\vdots  \\\\\n",
        "  a_{m,1} & a_{m,2} & \\cdots & a_{m,n}\n",
        " \\end{pmatrix}$"
      ]
    },
    {
      "cell_type": "markdown",
      "metadata": {
        "id": "BSXWJ5U8hdUK"
      },
      "source": [
        "Where each line is a **metabolite** and each column a **reaction**. "
      ]
    },
    {
      "cell_type": "markdown",
      "metadata": {
        "id": "dqa089jFDXaH"
      },
      "source": [
        "And install the dependencies for PySPQR library; for debian/ubuntu linux run:"
      ]
    },
    {
      "cell_type": "code",
      "metadata": {
        "id": "0eBtFIaIzZ66"
      },
      "source": [
        "!apt-get install libsuitesparse-dev &> /dev/null\n",
        "!pip install sparseqr &> /dev/null\n",
        "!pip install Cython &> /dev/null"
      ],
      "execution_count": null,
      "outputs": []
    },
    {
      "cell_type": "markdown",
      "metadata": {
        "id": "akAjYEubCrTY"
      },
      "source": [
        "-------------------------------------------------"
      ]
    },
    {
      "cell_type": "markdown",
      "metadata": {
        "id": "PqWGwdr9Cs-H"
      },
      "source": [
        "## Get and install *dingo*"
      ]
    },
    {
      "cell_type": "markdown",
      "metadata": {
        "id": "yYqOnx7_4ZRN"
      },
      "source": [
        "Get the `dingo` repo."
      ]
    },
    {
      "cell_type": "code",
      "metadata": {
        "id": "A6Mcqrqt3_Sa"
      },
      "source": [
        "!git clone https://github.com/GeomScale/dingo.git"
      ],
      "execution_count": null,
      "outputs": []
    },
    {
      "cell_type": "markdown",
      "metadata": {
        "id": "qePKvNyVFrHG"
      },
      "source": [
        "To load the submodules that `dingo` uses, run:"
      ]
    },
    {
      "cell_type": "code",
      "metadata": {
        "id": "n-zpDmAy9V-8"
      },
      "source": [
        "%cd dingo/\n",
        "!git submodule update --init"
      ],
      "execution_count": null,
      "outputs": []
    },
    {
      "cell_type": "markdown",
      "metadata": {
        "id": "jb6XxVcbF0h3"
      },
      "source": [
        "Then, download and unzip the `boost` library:"
      ]
    },
    {
      "cell_type": "code",
      "metadata": {
        "id": "vkjI-YD69dkw"
      },
      "source": [
        "!wget -O boost_1_76_0.tar.bz2 https://boostorg.jfrog.io/artifactory/main/release/1.76.0/source/boost_1_76_0.tar.bz2 &> /dev/null\n",
        "!tar xjf boost_1_76_0.tar.bz2 &> /dev/null\n",
        "!rm boost_1_76_0.tar.bz2 &> /dev/null"
      ],
      "execution_count": null,
      "outputs": []
    },
    {
      "cell_type": "markdown",
      "metadata": {
        "id": "RK_xgnsYAfOr"
      },
      "source": [
        "Install `dingo`"
      ]
    },
    {
      "cell_type": "markdown",
      "metadata": {
        "id": "Gu9E7fidgjnW"
      },
      "source": [
        "The following command will install `dingo` and it will take a while to compile. It needs about 4GB of RAM to do so. "
      ]
    },
    {
      "cell_type": "code",
      "metadata": {
        "id": "hMNc6tbiwhG1",
        "colab": {
          "base_uri": "https://localhost:8080/"
        },
        "outputId": "fe51bff3-888d-4942-a49e-ae7c6b8f8f11"
      },
      "source": [
        "!python setup.py install --user &> /dev/null\n",
        "print('dingo is ready to go!')"
      ],
      "execution_count": null,
      "outputs": [
        {
          "output_type": "stream",
          "text": [
            "dingo is ready to go!\n"
          ],
          "name": "stdout"
        }
      ]
    },
    {
      "cell_type": "markdown",
      "metadata": {
        "id": "PLCBCsYiGEXz"
      },
      "source": [
        "We have made some tests for you so you can make sure `dingo` has been installed properly."
      ]
    },
    {
      "cell_type": "code",
      "metadata": {
        "id": "f7q8A5TDxtOS"
      },
      "source": [
        "!python tests/unit_tests.py"
      ],
      "execution_count": null,
      "outputs": []
    },
    {
      "cell_type": "markdown",
      "metadata": {
        "id": "rWJ00dGySfol"
      },
      "source": [
        "Remember that in order for `dingo` to perform the best way possible, you need to get the `gurobi` solver. \n",
        "\n",
        "To do so, you need to get the solver by running:\n",
        "\n",
        "`\n",
        "pip3 install -i https://pypi.gurobi.com gurobipy\n",
        "`\n",
        "\n",
        "and download a (academic) [license](https://www.gurobi.com/downloads/end-user-license-agreement-academic/). "
      ]
    },
    {
      "cell_type": "markdown",
      "metadata": {
        "id": "iwZEvB6tC6jc"
      },
      "source": [
        "--------------------------------------------------------------------------"
      ]
    },
    {
      "cell_type": "markdown",
      "metadata": {
        "id": "rLfOQgaQuULC"
      },
      "source": [
        "The following command is to make Collab have access to the `dingo` library that was just compiled. \n",
        "This will be probably **no need for you**. \n",
        "In case Python does not find `dingo`, just check the \n",
        "semifinal line on the complilation step, in this case:\n",
        "\n",
        "`Writing /root/.local/lib/python3.7/site-packages/dingo-0.1.0.egg-info`\n",
        "\n",
        "This is the path where `dingo` was compiled. "
      ]
    },
    {
      "cell_type": "code",
      "metadata": {
        "id": "ojsTmKVZYocZ"
      },
      "source": [
        "import sys\n",
        "_ = (sys.path.append(\"/root/.local/lib/python3.7/site-packages/\"))"
      ],
      "execution_count": null,
      "outputs": []
    },
    {
      "cell_type": "markdown",
      "metadata": {
        "id": "Ua5lGNc8C8QE"
      },
      "source": [
        "-------------------------------------------------------------------------------"
      ]
    },
    {
      "cell_type": "markdown",
      "metadata": {
        "id": "AiFwL4lRugVC"
      },
      "source": [
        "Now we know that our Python console has been installed fine, we may ipmort `dingo`! "
      ]
    },
    {
      "cell_type": "code",
      "metadata": {
        "id": "FahzUpQFommK"
      },
      "source": [
        "import dingo"
      ],
      "execution_count": null,
      "outputs": []
    },
    {
      "cell_type": "markdown",
      "metadata": {
        "id": "AzFd-qTWryBW"
      },
      "source": [
        "Let us now have a look about how we can use `dingo`"
      ]
    },
    {
      "cell_type": "markdown",
      "metadata": {
        "id": "Hdx3hl-aw6sF"
      },
      "source": [
        "The `ess` stands for the effective sample size (ESS) (default value is `1000`) and the `psrf` is a flag to request an upper bound equal to `1.1` for the value of the *potential scale reduction factor* (PSRF) of each marginal flux (default option is `False`)."
      ]
    },
    {
      "cell_type": "code",
      "metadata": {
        "id": "ppBskvLpr22w"
      },
      "source": [
        "from dingo import MetabolicNetwork, PolytopeSampler\n",
        "from dingo import plot_histogram\n",
        "\n",
        "model = MetabolicNetwork.from_json('ext_data/e_coli_core.json')\n",
        "sampler = PolytopeSampler(model)\n"
      ],
      "execution_count": null,
      "outputs": []
    },
    {
      "cell_type": "code",
      "metadata": {
        "id": "NuVrc64WYJbJ"
      },
      "source": [
        "model.parameters"
      ],
      "execution_count": null,
      "outputs": []
    },
    {
      "cell_type": "code",
      "metadata": {
        "id": "_1r63O_AXzTO"
      },
      "source": [
        "model.metabolites"
      ],
      "execution_count": null,
      "outputs": []
    },
    {
      "cell_type": "code",
      "metadata": {
        "id": "oEYN_hbeXjpy"
      },
      "source": [
        "model.reactions\n",
        "model.S"
      ],
      "execution_count": null,
      "outputs": []
    },
    {
      "cell_type": "code",
      "metadata": {
        "id": "HHXSrEelXh4o"
      },
      "source": [
        "sampler = PolytopeSampler(model)\n",
        "steady_states = sampler.generate_steady_states(ess = 1000, psrf = True) # this took a little bit more than 5 minutes\n",
        "# steady_states = sampler.generate_steady_states()    # this command fails"
      ],
      "execution_count": null,
      "outputs": []
    },
    {
      "cell_type": "code",
      "metadata": {
        "id": "-n2HKr82yKyh",
        "colab": {
          "base_uri": "https://localhost:8080/",
          "height": 467
        },
        "outputId": "0e7af148-66a2-4986-ca82-3342df0075ca"
      },
      "source": [
        "# plot the histogram for a reaction (n) of the E. coli metabolic network\n",
        "\n",
        "reactions = model.reactions\n",
        "plot_histogram(\n",
        "        steady_states[80],  # here we set which reaction's flux we need to get \n",
        "        reactions[80],      # here we provide the name of the reaction\n",
        "        n_bins = 60,\n",
        ")"
      ],
      "execution_count": null,
      "outputs": [
        {
          "output_type": "display_data",
          "data": {
            "image/png": "[encoded data removed]",
            "text/plain": [
              "<Figure size 504x504 with 1 Axes>"
            ]
          },
          "metadata": {
            "tags": [],
            "needs_background": "light"
          }
        }
      ]
    },
    {
      "cell_type": "markdown",
      "metadata": {
        "id": "dpn2LsGIIpTV"
      },
      "source": [
        "## The GeomScale Org. project"
      ]
    },
    {
      "cell_type": "markdown",
      "metadata": {
        "id": "qjgmQMNcItsV"
      },
      "source": [
        "[Geomscale Org](https://geomscale.github.io/) is a research and development project that delivers open source code for state-of-the-art algorithms at the intersection of data science, optimization, geometric, and statistical computing. \n",
        "\n",
        "`dingo` is based on the `volesti` package; an open source project, [C++ library](https://github.com/GeomScale/volume_approximation) for volume approximation and sampling of convex bodies.\n",
        "\n",
        "GeomScale is part of [NumFOCUS](https://numfocus.org/) and a Google Summer of Code [(GSoC) organization](https://summerofcode.withgoogle.com/organizations/5553085268623360/). \n"
      ]
    },
    {
      "cell_type": "markdown",
      "metadata": {
        "id": "thr1GECvPiTg"
      },
      "source": [
        "\n",
        "## notes.."
      ]
    },
    {
      "cell_type": "code",
      "metadata": {
        "id": "Z5ONUNMvRp7I"
      },
      "source": [
        "# Here is a piece of code to allow to the notebook see my drive\n",
        "# from google.colab import drive\n",
        "# drive.mount('/content/drive')"
      ],
      "execution_count": null,
      "outputs": []
    },
    {
      "cell_type": "markdown",
      "metadata": {
        "id": "9lAGZFBFuBFA"
      },
      "source": [
        "to add an image: \n",
        "\n",
        "https://drive.google.com/uc?id="
      ]
    }
  ]
}